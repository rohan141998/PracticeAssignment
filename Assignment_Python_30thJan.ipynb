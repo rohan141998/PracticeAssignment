{
 "cells": [
  {
   "cell_type": "code",
   "execution_count": 1,
   "id": "71ada639-8f98-471d-baa2-d8b55f60ceeb",
   "metadata": {},
   "outputs": [
    {
     "data": {
      "text/plain": [
       "'Q1. Write a program to accept percentage from the user and display and display the grade.'"
      ]
     },
     "execution_count": 1,
     "metadata": {},
     "output_type": "execute_result"
    }
   ],
   "source": [
    "\"\"\"Q1. Write a program to accept percentage from the user and display and display the grade.\"\"\""
   ]
  },
  {
   "cell_type": "code",
   "execution_count": 7,
   "id": "18602537-cdd7-4516-bb80-5314240c32b9",
   "metadata": {},
   "outputs": [
    {
     "name": "stdin",
     "output_type": "stream",
     "text": [
      "please provide your marks:  100\n"
     ]
    },
    {
     "name": "stdout",
     "output_type": "stream",
     "text": [
      "Your grade is A\n"
     ]
    }
   ],
   "source": [
    "#Ans1.\n",
    "marks=int(input(\"please provide your marks: \"))\n",
    "if (marks>90):\n",
    "    print(\"Your grade is A\")\n",
    "elif (marks<=90 and marks>80):\n",
    "    print(\"Your grade is B\")\n",
    "elif (marks<=80 and marks>=60):\n",
    "    print(\"Your grade is C\")\n",
    "elif (marks<60):\n",
    "    print(\"Your grade is D\")"
   ]
  },
  {
   "cell_type": "code",
   "execution_count": 8,
   "id": "738a71e2-6add-43a8-b7fa-ce2b56c5461f",
   "metadata": {},
   "outputs": [
    {
     "data": {
      "text/plain": [
       "'Q2. Write a program to accept the cost price of a bike and display the road tax to be paid.'"
      ]
     },
     "execution_count": 8,
     "metadata": {},
     "output_type": "execute_result"
    }
   ],
   "source": [
    "\"\"\"Q2. Write a program to accept the cost price of a bike and display the road tax to be paid.\"\"\""
   ]
  },
  {
   "cell_type": "code",
   "execution_count": 11,
   "id": "01ad8425-702a-4d17-988d-77a666520746",
   "metadata": {},
   "outputs": [
    {
     "name": "stdin",
     "output_type": "stream",
     "text": [
      "enter the cost price of the bike:  109000\n"
     ]
    },
    {
     "name": "stdout",
     "output_type": "stream",
     "text": [
      "You have to pay 15% road tax.\n"
     ]
    }
   ],
   "source": [
    "#Ans2.\n",
    "cp=int(input(\"enter the cost price of the bike: \"))\n",
    "if (cp>100000):\n",
    "    print(\"You have to pay 15% road tax.\")\n",
    "elif (cp>50000 and cp<=100000):\n",
    "    print(\"You have to pay 10% road tax.\")\n",
    "elif (cp<=50000):\n",
    "    print(\"You have to pay 5% road tax.\")"
   ]
  },
  {
   "cell_type": "code",
   "execution_count": 12,
   "id": "5f0df4f8-fdfd-4cba-b65b-82651f5f737f",
   "metadata": {},
   "outputs": [
    {
     "data": {
      "text/plain": [
       "'Q3.Accept any city from the user and display monuments of that city.'"
      ]
     },
     "execution_count": 12,
     "metadata": {},
     "output_type": "execute_result"
    }
   ],
   "source": [
    "\"\"\"Q3.Accept any city from the user and display monuments of that city.\"\"\""
   ]
  },
  {
   "cell_type": "code",
   "execution_count": 16,
   "id": "e8cb4615-6606-4151-9000-72cb9097df00",
   "metadata": {},
   "outputs": [
    {
     "name": "stdin",
     "output_type": "stream",
     "text": [
      "please provide a city name:  Jaipur\n"
     ]
    },
    {
     "name": "stdout",
     "output_type": "stream",
     "text": [
      "Jal Mahal\n"
     ]
    }
   ],
   "source": [
    "#Ans3.\n",
    "city=input(\"please provide a city name: \")\n",
    "if city==\"Delhi\":\n",
    "    print(\"Red Fort\")\n",
    "elif city==\"Agra\":\n",
    "    print(\"Taj Mahal\")\n",
    "elif city==\"Jaipur\":\n",
    "    print(\"Jal Mahal\")"
   ]
  },
  {
   "cell_type": "code",
   "execution_count": 17,
   "id": "f5f07a24-b045-4635-be96-a91bb761fcb9",
   "metadata": {},
   "outputs": [
    {
     "data": {
      "text/plain": [
       "'Q4. Check how many times a given number can be divided by 3 before it is less than or equal to 10.'"
      ]
     },
     "execution_count": 17,
     "metadata": {},
     "output_type": "execute_result"
    }
   ],
   "source": [
    "\"\"\"Q4. Check how many times a given number can be divided by 3 before it is less than or equal to 10.\"\"\""
   ]
  },
  {
   "cell_type": "code",
   "execution_count": 19,
   "id": "84ef1e70-1024-4270-a610-ac4b37f0b2c9",
   "metadata": {},
   "outputs": [
    {
     "name": "stdin",
     "output_type": "stream",
     "text": [
      "Please enter the number:  90\n"
     ]
    },
    {
     "name": "stdout",
     "output_type": "stream",
     "text": [
      "Total iterations are  2\n"
     ]
    }
   ],
   "source": [
    "#Ans4.\n",
    "n=int(input(\"Please enter the number: \"))\n",
    "count=0\n",
    "while n>10:\n",
    "    n=n/3\n",
    "    count+=1\n",
    "print(\"Total iterations are \", count)"
   ]
  },
  {
   "cell_type": "code",
   "execution_count": 20,
   "id": "fda68473-ddbb-469a-a2af-cf2bfe0dbbb5",
   "metadata": {},
   "outputs": [
    {
     "data": {
      "text/plain": [
       "'Q5. Why and when to use while loop in python give a detailed description with example.'"
      ]
     },
     "execution_count": 20,
     "metadata": {},
     "output_type": "execute_result"
    }
   ],
   "source": [
    "\"\"\"Q5. Why and when to use while loop in python give a detailed description with example.\"\"\""
   ]
  },
  {
   "cell_type": "code",
   "execution_count": 24,
   "id": "2f99e1ee-f21e-41dc-8332-09428a1dcc68",
   "metadata": {},
   "outputs": [
    {
     "data": {
      "text/plain": [
       "'Ans5.\\nWhile loop is used when we do not know the number of iterations for which the code will run. For example, if we need to find the number of vowels in a user defined string the  we can also use while loop for this task.'"
      ]
     },
     "execution_count": 24,
     "metadata": {},
     "output_type": "execute_result"
    }
   ],
   "source": [
    "\"\"\"Ans5.\n",
    "While loop is used when we do not know the number of iterations for which the code will run. For example, if we need to find the number of vowels in a user defined string the  we can also use while loop for this task.\"\"\""
   ]
  },
  {
   "cell_type": "code",
   "execution_count": 25,
   "id": "9527fc63-78ee-4ecd-bc95-1b736f642440",
   "metadata": {},
   "outputs": [
    {
     "data": {
      "text/plain": [
       "'Q6. Use nested while loop to print 3 different patterns.'"
      ]
     },
     "execution_count": 25,
     "metadata": {},
     "output_type": "execute_result"
    }
   ],
   "source": [
    "\"\"\"Q6. Use nested while loop to print 3 different patterns.\"\"\""
   ]
  },
  {
   "cell_type": "code",
   "execution_count": 42,
   "id": "f028de2f-6795-477e-9075-238dd7e3346c",
   "metadata": {},
   "outputs": [
    {
     "name": "stdout",
     "output_type": "stream",
     "text": [
      "*****\n",
      "\n",
      "*****\n",
      "\n",
      "*****\n",
      "\n",
      "*****\n",
      "\n",
      "*****\n",
      "\n"
     ]
    }
   ],
   "source": [
    "#Ans6. Pattern 1\n",
    "i=5\n",
    "while i>0:\n",
    "    j=5\n",
    "    while j>0:\n",
    "        print(\"*\",end=\"\")\n",
    "        j=j-1\n",
    "    print(\"\\n\")\n",
    "    i=i-1"
   ]
  },
  {
   "cell_type": "code",
   "execution_count": 43,
   "id": "1e10e662-cc66-4eb9-9b50-9befbc8899b0",
   "metadata": {},
   "outputs": [
    {
     "name": "stdout",
     "output_type": "stream",
     "text": [
      "*****\n",
      "\n",
      "****\n",
      "\n",
      "***\n",
      "\n",
      "**\n",
      "\n",
      "*\n",
      "\n"
     ]
    }
   ],
   "source": [
    "#Pattern 2\n",
    "i=5\n",
    "while i>0:\n",
    "    j=i-1+1\n",
    "    while j>0:\n",
    "        print(\"*\",end=\"\")\n",
    "        j=j-1\n",
    "    print(\"\\n\")\n",
    "    i=i-1"
   ]
  },
  {
   "cell_type": "code",
   "execution_count": 45,
   "id": "fe3d8fcf-8bce-43ea-a82e-d61c899b8e0f",
   "metadata": {},
   "outputs": [
    {
     "name": "stdout",
     "output_type": "stream",
     "text": [
      "*\n",
      "\n",
      "**\n",
      "\n",
      "***\n",
      "\n",
      "****\n",
      "\n",
      "*****\n",
      "\n"
     ]
    }
   ],
   "source": [
    "#Pattern 3\n",
    "i=5\n",
    "while i>0:\n",
    "    j=6-i\n",
    "    while j>0:\n",
    "        print(\"*\",end=\"\")\n",
    "        j=j-1\n",
    "    print(\"\\n\")\n",
    "    i=i-1"
   ]
  },
  {
   "cell_type": "code",
   "execution_count": 46,
   "id": "0bd9e869-def9-46d2-85c5-f49725d2f7f9",
   "metadata": {},
   "outputs": [
    {
     "data": {
      "text/plain": [
       "'Q7. Reverse a while loop to display numbers from 10 to 1.'"
      ]
     },
     "execution_count": 46,
     "metadata": {},
     "output_type": "execute_result"
    }
   ],
   "source": [
    "\"\"\"Q7. Reverse a while loop to display numbers from 10 to 1.\"\"\""
   ]
  },
  {
   "cell_type": "code",
   "execution_count": 47,
   "id": "2c19a8fc-6450-4f12-9aa6-99d5b15ce09b",
   "metadata": {},
   "outputs": [
    {
     "name": "stdout",
     "output_type": "stream",
     "text": [
      "10\n",
      "9\n",
      "8\n",
      "7\n",
      "6\n",
      "5\n",
      "4\n",
      "3\n",
      "2\n",
      "1\n"
     ]
    }
   ],
   "source": [
    "#Ans7.\n",
    "n=10\n",
    "while n>0:\n",
    "    print(n)\n",
    "    n=n-1"
   ]
  },
  {
   "cell_type": "code",
   "execution_count": 48,
   "id": "3a0a180e-89db-428e-8d35-e11c5814597c",
   "metadata": {},
   "outputs": [
    {
     "data": {
      "text/plain": [
       "'Q8. Reverse a while loop to display numbers from 10 to 1.'"
      ]
     },
     "execution_count": 48,
     "metadata": {},
     "output_type": "execute_result"
    }
   ],
   "source": [
    "\"\"\"Q8. Reverse a while loop to display numbers from 10 to 1.\"\"\""
   ]
  },
  {
   "cell_type": "code",
   "execution_count": 49,
   "id": "2924541f-dc75-488a-8abf-7387cead9353",
   "metadata": {},
   "outputs": [
    {
     "name": "stdout",
     "output_type": "stream",
     "text": [
      "10\n",
      "9\n",
      "8\n",
      "7\n",
      "6\n",
      "5\n",
      "4\n",
      "3\n",
      "2\n",
      "1\n"
     ]
    }
   ],
   "source": [
    "#Ans8.\n",
    "n=10\n",
    "while n>0:\n",
    "    print(n)\n",
    "    n=n-1"
   ]
  },
  {
   "cell_type": "code",
   "execution_count": null,
   "id": "e1cfaad1-2d8b-4911-8d49-4903fbfd43fe",
   "metadata": {},
   "outputs": [],
   "source": []
  }
 ],
 "metadata": {
  "kernelspec": {
   "display_name": "Python 3 (ipykernel)",
   "language": "python",
   "name": "python3"
  },
  "language_info": {
   "codemirror_mode": {
    "name": "ipython",
    "version": 3
   },
   "file_extension": ".py",
   "mimetype": "text/x-python",
   "name": "python",
   "nbconvert_exporter": "python",
   "pygments_lexer": "ipython3",
   "version": "3.10.8"
  }
 },
 "nbformat": 4,
 "nbformat_minor": 5
}
