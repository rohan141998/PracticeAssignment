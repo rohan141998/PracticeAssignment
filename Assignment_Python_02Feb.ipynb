{
 "cells": [
  {
   "cell_type": "code",
   "execution_count": 13,
   "id": "37d3d62f-46c9-440b-b49c-e66b3332d39a",
   "metadata": {},
   "outputs": [
    {
     "data": {
      "text/plain": [
       "'Q1. Explain with an example each when to use a for loop and a while loop.'"
      ]
     },
     "execution_count": 13,
     "metadata": {},
     "output_type": "execute_result"
    }
   ],
   "source": [
    "\"\"\"Q1. Explain with an example each when to use a for loop and a while loop.\"\"\""
   ]
  },
  {
   "cell_type": "code",
   "execution_count": 14,
   "id": "672fedcf-0757-460d-bb51-754c0e3abb29",
   "metadata": {},
   "outputs": [
    {
     "data": {
      "text/plain": [
       "'Ans1:\\nFor loop is used when you know the number of iterations beforehand like if we want to print the first 10 multiples of a number.\\nWhile loop is used when we want the loop to execute untill the condition is False, like if we want to print all the natural prime numbers till 100 in reverse order.'"
      ]
     },
     "execution_count": 14,
     "metadata": {},
     "output_type": "execute_result"
    }
   ],
   "source": [
    "\"\"\"Ans1:\n",
    "For loop is used when you know the number of iterations beforehand like if we want to print the first 10 multiples of a number.\n",
    "While loop is used when we want the loop to execute untill the condition is False, like if we want to print all the natural prime numbers till 100 in reverse order.\"\"\""
   ]
  },
  {
   "cell_type": "code",
   "execution_count": 15,
   "id": "52668d37-384d-4551-ad9c-5737f1947b77",
   "metadata": {},
   "outputs": [
    {
     "data": {
      "text/plain": [
       "'Q2. Write a python program to print the sum and product of the first 10 natural numbers using for and while loop.'"
      ]
     },
     "execution_count": 15,
     "metadata": {},
     "output_type": "execute_result"
    }
   ],
   "source": [
    "\"\"\"Q2. Write a python program to print the sum and product of the first 10 natural numbers using for and while loop.\"\"\""
   ]
  },
  {
   "cell_type": "code",
   "execution_count": 16,
   "id": "cffa005d-7807-4326-8737-d31b6e3b5551",
   "metadata": {},
   "outputs": [
    {
     "name": "stdout",
     "output_type": "stream",
     "text": [
      "sum of first 10 natural numbers:  55\n",
      "product of first 10 natural numbers: 3628800\n"
     ]
    }
   ],
   "source": [
    "#Ans2:\n",
    "sum_num=0\n",
    "product_num=1\n",
    "num=1\n",
    "while(num<=10):\n",
    "    sum_num+=num\n",
    "    product_num*=num\n",
    "    num+=1\n",
    "print(\"sum of first 10 natural numbers: \", sum_num)\n",
    "print(\"product of first 10 natural numbers:\", product_num)"
   ]
  },
  {
   "cell_type": "code",
   "execution_count": 17,
   "id": "f443305a-27af-4c2d-8546-ff3d569f53b3",
   "metadata": {},
   "outputs": [
    {
     "data": {
      "text/plain": [
       "'Q3.Create a python program to compute the electricity bill for a household.\\nThe per-unit charges in rupees are as follows: For the first 100 units, the user will be charged Rs. 4.5 per\\nunit, for the next 100 units, the user will be charged Rs. 6 per unit, and for the next 100 units, the user will\\nbe charged Rs. 10 per unit, After 300 units and above the user will be charged Rs. 20 per unit.\\n\\n\\nYou are required to take the units of electricity consumed in a month from the user as input.\\n\\n\\nYour program must pass this test case: when the unit of electricity consumed by the user in a month is\\n310, the total electricity bill should be 2250.'"
      ]
     },
     "execution_count": 17,
     "metadata": {},
     "output_type": "execute_result"
    }
   ],
   "source": [
    "\"\"\"Q3.Create a python program to compute the electricity bill for a household.\n",
    "The per-unit charges in rupees are as follows: For the first 100 units, the user will be charged Rs. 4.5 per\n",
    "unit, for the next 100 units, the user will be charged Rs. 6 per unit, and for the next 100 units, the user will\n",
    "be charged Rs. 10 per unit, After 300 units and above the user will be charged Rs. 20 per unit.\n",
    "\n",
    "\n",
    "You are required to take the units of electricity consumed in a month from the user as input.\n",
    "\n",
    "\n",
    "Your program must pass this test case: when the unit of electricity consumed by the user in a month is\n",
    "310, the total electricity bill should be 2250.\"\"\""
   ]
  },
  {
   "cell_type": "code",
   "execution_count": 18,
   "id": "dd5f2165-72b1-4041-ae04-e5b16f6a73b6",
   "metadata": {},
   "outputs": [
    {
     "name": "stdin",
     "output_type": "stream",
     "text": [
      "Please input the units of electricity used:  310\n"
     ]
    },
    {
     "name": "stdout",
     "output_type": "stream",
     "text": [
      "Your electricity bill is: Rs.  2250\n"
     ]
    }
   ],
   "source": [
    "#Ans3:\n",
    "elec_cons=int(input(\"Please input the units of electricity used: \"))\n",
    "sum=0\n",
    "elec_bal=0\n",
    "if elec_cons<=100:\n",
    "    sum=elec_cons*4.5\n",
    "elif(elec_cons<=200 and elec_cons>100):\n",
    "    sum=450+((elec_cons-100)*6)\n",
    "elif(elec_cons<=300 and elec_cons>200):\n",
    "    sum=1050+((elec_cons-200)*10)\n",
    "elif(elec_cons>300):\n",
    "    sum=2050+((elec_cons-300)*20)    \n",
    "print (\"Your electricity bill is: Rs. \",sum)"
   ]
  },
  {
   "cell_type": "code",
   "execution_count": 19,
   "id": "e03d4fd6-c5c6-453f-b2d5-dd17c577910c",
   "metadata": {},
   "outputs": [
    {
     "data": {
      "text/plain": [
       "'Q4.Create a list of numbers from 1 to 100. Use for loop and while loop to calculate the cube of each\\nnumber and if the cube of that number is divisible by 4 or 5 then append that number in a list and print\\nthat list.'"
      ]
     },
     "execution_count": 19,
     "metadata": {},
     "output_type": "execute_result"
    }
   ],
   "source": [
    "\"\"\"Q4.Create a list of numbers from 1 to 100. Use for loop and while loop to calculate the cube of each\n",
    "number and if the cube of that number is divisible by 4 or 5 then append that number in a list and print\n",
    "that list.\"\"\""
   ]
  },
  {
   "cell_type": "code",
   "execution_count": 2,
   "id": "c00dfa16-954d-49a0-9549-b34dc788a29d",
   "metadata": {},
   "outputs": [
    {
     "name": "stdout",
     "output_type": "stream",
     "text": [
      "[8, 64, 125, 216, 512, 1000, 1728, 2744, 3375, 4096, 5832, 8000, 10648, 13824, 15625, 17576, 21952, 27000, 32768, 39304, 42875, 46656, 54872, 64000, 74088, 85184, 91125, 97336, 110592, 125000, 140608, 157464, 166375, 175616, 195112, 216000, 238328, 262144, 274625, 287496, 314432, 343000, 373248, 405224, 421875, 438976, 474552, 512000, 551368, 592704, 614125, 636056, 681472, 729000, 778688, 830584, 857375, 884736, 941192, 1000000]\n"
     ]
    }
   ],
   "source": [
    "#Ans4: using for loop\n",
    "l=[]\n",
    "for i in range(1,101):\n",
    "    l.append(i)\n",
    "l1=[]\n",
    "for i in l:\n",
    "    if ((i**3)%4==0) or ((i**3)%5==0):\n",
    "        l1.append(i**3)\n",
    "print(l1)"
   ]
  },
  {
   "cell_type": "code",
   "execution_count": 1,
   "id": "9e6fac73-24ff-429e-901e-2734d251f516",
   "metadata": {},
   "outputs": [
    {
     "name": "stdout",
     "output_type": "stream",
     "text": [
      "[8, 64, 125, 216, 512, 1000, 1728, 2744, 3375, 4096, 5832, 8000, 10648, 13824, 15625, 17576, 21952, 27000, 32768, 39304, 42875, 46656, 54872, 64000, 74088, 85184, 91125, 97336, 110592, 125000, 140608, 157464, 166375, 175616, 195112, 216000, 238328, 262144, 274625, 287496, 314432, 343000, 373248, 405224, 421875, 438976, 474552, 512000, 551368, 592704, 614125, 636056, 681472, 729000, 778688, 830584, 857375, 884736, 941192, 1000000]\n"
     ]
    }
   ],
   "source": [
    "#Ans4: using while loop\n",
    "l=[]\n",
    "i=1\n",
    "while i<=100:\n",
    "    l.append(i)\n",
    "    i+=1\n",
    "l1=[]\n",
    "j=0\n",
    "while j<100:\n",
    "    if ((l[j]**3)%4==0) or ((l[j]**3)%5==0):\n",
    "        l1.append(l[j]**3)\n",
    "    j+=1\n",
    "print(l1)"
   ]
  },
  {
   "cell_type": "code",
   "execution_count": 4,
   "id": "825e4b3f-a473-4761-9749-9cd777507f41",
   "metadata": {},
   "outputs": [
    {
     "data": {
      "text/plain": [
       "'Q5. Write a program to filter count vowels in the below-given string.\\nstring = \"I want to become a data scientist\"\\n'"
      ]
     },
     "execution_count": 4,
     "metadata": {},
     "output_type": "execute_result"
    }
   ],
   "source": [
    "\"\"\"Q5. Write a program to filter count vowels in the below-given string.\n",
    "string = \"I want to become a data scientist\"\n",
    "\"\"\""
   ]
  },
  {
   "cell_type": "code",
   "execution_count": 6,
   "id": "31492ffc-c372-436b-9075-54928695b835",
   "metadata": {},
   "outputs": [
    {
     "name": "stdout",
     "output_type": "stream",
     "text": [
      "['I', 'a', 'o', 'e', 'o', 'e', 'a', 'a', 'a', 'i', 'e', 'i']\n"
     ]
    }
   ],
   "source": [
    "#Ans5:\n",
    "string = \"I want to become a data scientist\"\n",
    "l=[\"A\",\"E\",\"I\",\"O\",\"U\",\"a\",\"e\",\"i\",\"o\",\"u\"]\n",
    "l1=list(string)\n",
    "l2=[]\n",
    "for i in l1:\n",
    "    if i in l:\n",
    "        l2.append(i)\n",
    "print(l2)"
   ]
  }
 ],
 "metadata": {
  "kernelspec": {
   "display_name": "Python 3 (ipykernel)",
   "language": "python",
   "name": "python3"
  },
  "language_info": {
   "codemirror_mode": {
    "name": "ipython",
    "version": 3
   },
   "file_extension": ".py",
   "mimetype": "text/x-python",
   "name": "python",
   "nbconvert_exporter": "python",
   "pygments_lexer": "ipython3",
   "version": "3.10.6"
  }
 },
 "nbformat": 4,
 "nbformat_minor": 5
}
