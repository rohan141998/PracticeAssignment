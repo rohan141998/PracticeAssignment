{
 "cells": [
  {
   "cell_type": "code",
   "execution_count": 1,
   "id": "119f077f-f1e0-4f0c-9ca1-277aefa82dec",
   "metadata": {},
   "outputs": [
    {
     "data": {
      "text/plain": [
       "'Q1. Create a function which will take a list as an argument and return the product of all the numbers\\nafter creating a flat list.\\n\\nUse the below-given list as an argument for your function.\\n\\n\\nlist1 = [1,2,3,4, [44,55,66, True], False, (34,56,78,89,34), {1,2,3,3,2,1}, {1:34, \"key2\": [55, 67, 78, 89], 4: (45,\\n22, 61, 34)}, [56, \\'data science\\'], \\'Machine Learning\\']\\n\\n\\nNote: you must extract numeric keys and values of the dictionary also.'"
      ]
     },
     "execution_count": 1,
     "metadata": {},
     "output_type": "execute_result"
    }
   ],
   "source": [
    "\"\"\"Q1. Create a function which will take a list as an argument and return the product of all the numbers\n",
    "after creating a flat list.\n",
    "\n",
    "Use the below-given list as an argument for your function.\n",
    "\n",
    "\n",
    "list1 = [1,2,3,4, [44,55,66, True], False, (34,56,78,89,34), {1,2,3,3,2,1}, {1:34, \"key2\": [55, 67, 78, 89], 4: (45,\n",
    "22, 61, 34)}, [56, 'data science'], 'Machine Learning']\n",
    "\n",
    "\n",
    "Note: you must extract numeric keys and values of the dictionary also.\"\"\""
   ]
  },
  {
   "cell_type": "code",
   "execution_count": 2,
   "id": "a53bfdfd-c2ae-4c8c-9c44-4da34924ed34",
   "metadata": {},
   "outputs": [
    {
     "name": "stdout",
     "output_type": "stream",
     "text": [
      "2315262738624675840\n"
     ]
    }
   ],
   "source": [
    "#Ans1.\n",
    "from functools import reduce\n",
    "l=list()\n",
    "def multiplyFunc(l):\n",
    "    l1=list()\n",
    "    for i in l:\n",
    "        if type(i)==int:\n",
    "            l1.append(i)\n",
    "        elif type(i)==tuple or type(i)==list or type(i)==set:\n",
    "            for j in i:\n",
    "                if type(j)==int:\n",
    "                    l1.append(j)\n",
    "        elif type(i)==dict:\n",
    "            for k in i:\n",
    "                if type(k)==int:\n",
    "                    l1.append(k)\n",
    "    print(reduce(lambda m,n:m*n,l1))\n",
    "\n",
    "multiplyFunc([1,2,3,4, [44,55,66, True], False, (34,56,78,89,34), {1,2,3,3,2,1}, {1:34, \"key2\": [55, 67, 78, 89], 4: (45,22, 61, 34)}, [56, 'data science'], 'Machine Learning'])"
   ]
  },
  {
   "cell_type": "code",
   "execution_count": 3,
   "id": "e0022ae4-b6f0-4e4c-8cc4-e4223eda2374",
   "metadata": {},
   "outputs": [
    {
     "data": {
      "text/plain": [
       "'Q2. Write a python program for encrypting a message sent to you by your friend. The logic of encryption\\nshould be such that, for a the output should be z. For b, the output should be y. For c, the output should\\nbe x respectively. Also, the whitespace should be replaced with a dollar sign. Keep the punctuation\\nmarks unchanged.\\n\\n\\nInput Sentence: I want to become a Data Scientist.\\n\\n\\nEncrypt the above input sentence using the program you just created.\\n\\n\\nNote: Convert the given input sentence into lowercase before encrypting. The final output should be\\nlowercase.\\nNote: Create your assignment in Jupyter notebook and upload it to GitHub & share that GitHub repository\\nlink through your dashboard.'"
      ]
     },
     "execution_count": 3,
     "metadata": {},
     "output_type": "execute_result"
    }
   ],
   "source": [
    "\"\"\"Q2. Write a python program for encrypting a message sent to you by your friend. The logic of encryption\n",
    "should be such that, for a the output should be z. For b, the output should be y. For c, the output should\n",
    "be x respectively. Also, the whitespace should be replaced with a dollar sign. Keep the punctuation\n",
    "marks unchanged.\n",
    "\n",
    "\n",
    "Input Sentence: I want to become a Data Scientist.\n",
    "\n",
    "\n",
    "Encrypt the above input sentence using the program you just created.\n",
    "\n",
    "\n",
    "Note: Convert the given input sentence into lowercase before encrypting. The final output should be\n",
    "lowercase.\n",
    "Note: Create your assignment in Jupyter notebook and upload it to GitHub & share that GitHub repository\n",
    "link through your dashboard.\"\"\""
   ]
  },
  {
   "cell_type": "code",
   "execution_count": 26,
   "id": "e60a416a-9bd7-4ab0-b59e-44d473bfc63d",
   "metadata": {},
   "outputs": [
    {
     "name": "stdout",
     "output_type": "stream",
     "text": [
      "m    97    122\n"
     ]
    }
   ],
   "source": [
    "a=ord(\"z\")\n",
    "b=a-13\n",
    "print(chr(b),\"  \",ord(\"a\"),\"  \",ord(\"z\"))"
   ]
  },
  {
   "cell_type": "code",
   "execution_count": 29,
   "id": "ee77ce76-60ec-44e5-9c5a-0705b10f1cf8",
   "metadata": {},
   "outputs": [
    {
     "name": "stdin",
     "output_type": "stream",
     "text": [
      "Enter the message you want to encrypt:  abcdefghijklmnopqrstuvwxyz\n"
     ]
    },
    {
     "name": "stdout",
     "output_type": "stream",
     "text": [
      "[97, 98, 99, 100, 101, 102, 103, 104, 105, 106, 107, 108, 109, 110, 111, 112, 113, 114, 115, 116, 117, 118, 119, 120, 121, 122]\n"
     ]
    }
   ],
   "source": [
    "#Ans2.\n",
    "s=input(\"Enter the message you want to encrypt: \")\n",
    "s=s.lower()\n",
    "l=list(s)\n",
    "for i in range (len(l)):\n",
    "    if l[i]==\" \":\n",
    "        l[i]=\"$\"\n",
    "    elif type(l[i])==str:\n",
    "        k=l[i]\n",
    "        l[i]=ord(k)\n",
    "        \n",
    "print(l)"
   ]
  },
  {
   "cell_type": "code",
   "execution_count": 3,
   "id": "108a8647-93db-4b03-9957-66c3c30541a2",
   "metadata": {},
   "outputs": [
    {
     "name": "stdin",
     "output_type": "stream",
     "text": [
      "Enter the message you want to encrypt:  I want to become a Data Scientist\n"
     ]
    },
    {
     "data": {
      "text/plain": [
       "'r$dzmg$gl$yvxlnv$z$wzgz$hxrvmgrhg'"
      ]
     },
     "execution_count": 3,
     "metadata": {},
     "output_type": "execute_result"
    }
   ],
   "source": [
    "#Ans2.\n",
    "s=input(\"Enter the message you want to encrypt: \")\n",
    "s=s.lower()\n",
    "l=list(s)\n",
    "encryption_dict = {\n",
    "        'a': 'z', 'b': 'y', 'c': 'x', 'd': 'w', 'e': 'v',\n",
    "        'f': 'u', 'g': 't', 'h': 's', 'i': 'r', 'j': 'q',\n",
    "        'k': 'p', 'l': 'o', 'm': 'n', 'n': 'm', 'o': 'l',\n",
    "        'p': 'k', 'q': 'j', 'r': 'i', 's': 'h', 't': 'g',\n",
    "        'u': 'f', 'v': 'e', 'w': 'd', 'x': 'c', 'y': 'b',\n",
    "        'z': 'a', ' ': '$'\n",
    "    }\n",
    "for i in range (len(l)):\n",
    "        k=l[i]\n",
    "        l[i]=encryption_dict[k]\n",
    "s=\"\".join(l)"
   ]
  },
  {
   "cell_type": "code",
   "execution_count": null,
   "id": "312615dd-1e5f-417c-ab9d-74a3509fab71",
   "metadata": {},
   "outputs": [],
   "source": []
  }
 ],
 "metadata": {
  "kernelspec": {
   "display_name": "Python 3 (ipykernel)",
   "language": "python",
   "name": "python3"
  },
  "language_info": {
   "codemirror_mode": {
    "name": "ipython",
    "version": 3
   },
   "file_extension": ".py",
   "mimetype": "text/x-python",
   "name": "python",
   "nbconvert_exporter": "python",
   "pygments_lexer": "ipython3",
   "version": "3.10.8"
  }
 },
 "nbformat": 4,
 "nbformat_minor": 5
}
