{
 "cells": [
  {
   "cell_type": "code",
   "execution_count": 1,
   "id": "4daa1824-9120-4301-9859-2ca8baa88f1e",
   "metadata": {},
   "outputs": [
    {
     "data": {
      "text/plain": [
       "'Q1. Who developed pyhton programming language?'"
      ]
     },
     "execution_count": 1,
     "metadata": {},
     "output_type": "execute_result"
    }
   ],
   "source": [
    "\"\"\"Q1. Who developed pyhton programming language?\"\"\""
   ]
  },
  {
   "cell_type": "code",
   "execution_count": 3,
   "id": "8ffcc843-ab88-4da9-aff3-56544b6ebcc3",
   "metadata": {},
   "outputs": [
    {
     "data": {
      "text/plain": [
       "'Ans1. Python was created by Guido van Rossum, and first released on February 20, 1991.'"
      ]
     },
     "execution_count": 3,
     "metadata": {},
     "output_type": "execute_result"
    }
   ],
   "source": [
    "\"\"\"Ans1. Python was created by Guido van Rossum, and first released on February 20, 1991.\"\"\""
   ]
  },
  {
   "cell_type": "code",
   "execution_count": 4,
   "id": "da4b4f45-7289-4c4a-ae1c-d523174a3c72",
   "metadata": {},
   "outputs": [
    {
     "data": {
      "text/plain": [
       "'Q2. Which type of programming does python support?'"
      ]
     },
     "execution_count": 4,
     "metadata": {},
     "output_type": "execute_result"
    }
   ],
   "source": [
    "\"\"\"Q2. Which type of programming does python support?\"\"\""
   ]
  },
  {
   "cell_type": "code",
   "execution_count": 5,
   "id": "a8f47072-e475-4f41-bc15-53487fab51cd",
   "metadata": {},
   "outputs": [
    {
     "data": {
      "text/plain": [
       "'Ans2. Python is an interpreted programming language, supporting object-oriented, structured, and functional programming.'"
      ]
     },
     "execution_count": 5,
     "metadata": {},
     "output_type": "execute_result"
    }
   ],
   "source": [
    "\"\"\"Ans2. Python is an interpreted programming language, supporting object-oriented, structured, and functional programming.\"\"\""
   ]
  },
  {
   "cell_type": "code",
   "execution_count": 6,
   "id": "da081507-cc15-4c59-913a-7828985e4fcf",
   "metadata": {},
   "outputs": [
    {
     "data": {
      "text/plain": [
       "'Q3. Is python case sensitive when dealing with identifiers?'"
      ]
     },
     "execution_count": 6,
     "metadata": {},
     "output_type": "execute_result"
    }
   ],
   "source": [
    "\"\"\"Q3. Is python case sensitive when dealing with identifiers?\"\"\""
   ]
  },
  {
   "cell_type": "code",
   "execution_count": 8,
   "id": "00957f2f-5cb0-483e-8f90-28bef647f16c",
   "metadata": {},
   "outputs": [
    {
     "data": {
      "text/plain": [
       "'Ans3. Yes, Python is a case-sensitive language, so identifiers are case-sensitive.'"
      ]
     },
     "execution_count": 8,
     "metadata": {},
     "output_type": "execute_result"
    }
   ],
   "source": [
    "\"\"\"Ans3. Yes, Python is a case-sensitive language, so identifiers are case-sensitive.\"\"\""
   ]
  },
  {
   "cell_type": "code",
   "execution_count": 10,
   "id": "af4141aa-1231-41db-9fb3-cd37bfe9fa34",
   "metadata": {},
   "outputs": [
    {
     "data": {
      "text/plain": [
       "'Q4. What is the correct extention of the python file?'"
      ]
     },
     "execution_count": 10,
     "metadata": {},
     "output_type": "execute_result"
    }
   ],
   "source": [
    "\"\"\"Q4. What is the correct extention of the python file?\"\"\""
   ]
  },
  {
   "cell_type": "code",
   "execution_count": 11,
   "id": "54ce5f07-183e-4fc9-a5b1-9d20b980acf1",
   "metadata": {},
   "outputs": [
    {
     "data": {
      "text/plain": [
       "'Ans4. .py'"
      ]
     },
     "execution_count": 11,
     "metadata": {},
     "output_type": "execute_result"
    }
   ],
   "source": [
    "\"\"\"Ans4. .py\"\"\""
   ]
  },
  {
   "cell_type": "code",
   "execution_count": 12,
   "id": "64de2f40-bfb4-43c1-a734-3929cbe88ef9",
   "metadata": {},
   "outputs": [
    {
     "data": {
      "text/plain": [
       "'Q5. Is python code compiled or interpreted?'"
      ]
     },
     "execution_count": 12,
     "metadata": {},
     "output_type": "execute_result"
    }
   ],
   "source": [
    "\"\"\"Q5. Is python code compiled or interpreted?\"\"\""
   ]
  },
  {
   "cell_type": "code",
   "execution_count": 13,
   "id": "fc3bf2c5-39a6-48f1-94a3-edf3f84c1753",
   "metadata": {},
   "outputs": [
    {
     "data": {
      "text/plain": [
       "'Ans5. Python program is interpreted.'"
      ]
     },
     "execution_count": 13,
     "metadata": {},
     "output_type": "execute_result"
    }
   ],
   "source": [
    "\"\"\"Ans5. Python program is interpreted.\"\"\""
   ]
  },
  {
   "cell_type": "code",
   "execution_count": 14,
   "id": "ba9d60b2-68b4-41d1-a084-28e5b6fa2d54",
   "metadata": {},
   "outputs": [
    {
     "data": {
      "text/plain": [
       "'Q6. Name a few blocks of code used to define in python language.'"
      ]
     },
     "execution_count": 14,
     "metadata": {},
     "output_type": "execute_result"
    }
   ],
   "source": [
    "\"\"\"Q6. Name a few blocks of code used to define in python language.\"\"\""
   ]
  },
  {
   "cell_type": "code",
   "execution_count": 15,
   "id": "8e39032f-f507-40a4-9a3f-8915ad54a51c",
   "metadata": {},
   "outputs": [
    {
     "data": {
      "text/plain": [
       "'Ans6. A Python program is constructed from code blocks. A block is a piece of Python program text that is executed as a unit. The following are blocks: a module, a function body, and a class definition.'"
      ]
     },
     "execution_count": 15,
     "metadata": {},
     "output_type": "execute_result"
    }
   ],
   "source": [
    "\"\"\"Ans6. A Python program is constructed from code blocks. A block is a piece of Python program text that is executed as a unit. The following are blocks: a module, a function body, and a class definition.\"\"\""
   ]
  },
  {
   "cell_type": "code",
   "execution_count": 17,
   "id": "a6d0ab25-aa80-4d5d-b4ed-41c409209822",
   "metadata": {},
   "outputs": [
    {
     "data": {
      "text/plain": [
       "'Q7. State a character used to give single-line comments in python.'"
      ]
     },
     "execution_count": 17,
     "metadata": {},
     "output_type": "execute_result"
    }
   ],
   "source": [
    "\"\"\"Q7. State a character used to give single-line comments in python.\"\"\""
   ]
  },
  {
   "cell_type": "code",
   "execution_count": 18,
   "id": "936522a3-6781-4850-8846-1b9c1518483e",
   "metadata": {},
   "outputs": [
    {
     "data": {
      "text/plain": [
       "'Ans7. We can use the # character to write the comment in python.'"
      ]
     },
     "execution_count": 18,
     "metadata": {},
     "output_type": "execute_result"
    }
   ],
   "source": [
    "\"\"\"Ans7. We can use the # character to write the comment in python.\"\"\""
   ]
  },
  {
   "cell_type": "code",
   "execution_count": 19,
   "id": "6621186c-32ba-48eb-8473-4c9993f87f5d",
   "metadata": {},
   "outputs": [
    {
     "data": {
      "text/plain": [
       "'Q8. Mention functions which can help us to find the version of mython that we are currently working on.'"
      ]
     },
     "execution_count": 19,
     "metadata": {},
     "output_type": "execute_result"
    }
   ],
   "source": [
    "\"\"\"Q8. Mention functions which can help us to find the version of mython that we are currently working on.\"\"\""
   ]
  },
  {
   "cell_type": "code",
   "execution_count": 28,
   "id": "2f740e96-dbee-4e2c-90ce-fd81861e5aa5",
   "metadata": {},
   "outputs": [
    {
     "name": "stdout",
     "output_type": "stream",
     "text": [
      "User Current Version:- 3.10.8 | packaged by conda-forge | (main, Nov 22 2022, 08:26:04) [GCC 10.4.0]\n"
     ]
    }
   ],
   "source": [
    "\"\"\"Ans8. sys.version.\"\"\"\n",
    "import sys\n",
    "print(\"User Current Version:-\", sys.version)"
   ]
  },
  {
   "cell_type": "code",
   "execution_count": 31,
   "id": "7bca7700-372c-46b5-b51f-9e9df81c0cf8",
   "metadata": {},
   "outputs": [
    {
     "data": {
      "text/plain": [
       "'Q9. Python supports the creation of anonymous functions at runtime, using a construct called _______?'"
      ]
     },
     "execution_count": 31,
     "metadata": {},
     "output_type": "execute_result"
    }
   ],
   "source": [
    "\"\"\"Q9. Python supports the creation of anonymous functions at runtime, using a construct called _______?\"\"\""
   ]
  },
  {
   "cell_type": "code",
   "execution_count": 32,
   "id": "0ba3501b-7d37-4ac1-ae0a-55af13fdb845",
   "metadata": {},
   "outputs": [],
   "source": [
    "#Ans9. Lambda."
   ]
  },
  {
   "cell_type": "code",
   "execution_count": 35,
   "id": "0de774a9-e887-4d7f-93f2-562e6fdf114d",
   "metadata": {},
   "outputs": [
    {
     "data": {
      "text/plain": [
       "'Q10. What does pip stand for python?'"
      ]
     },
     "execution_count": 35,
     "metadata": {},
     "output_type": "execute_result"
    }
   ],
   "source": [
    "\"\"\"Q10. What does pip stand for python?\"\"\""
   ]
  },
  {
   "cell_type": "code",
   "execution_count": 36,
   "id": "d70298d0-cf63-4535-b12c-d81fa56ca1af",
   "metadata": {},
   "outputs": [],
   "source": [
    "#Ans10. Preferred Installer Program."
   ]
  },
  {
   "cell_type": "code",
   "execution_count": 37,
   "id": "950942b1-5752-4496-9e29-3be59471d0c0",
   "metadata": {},
   "outputs": [
    {
     "data": {
      "text/plain": [
       "'Q11. Mention a few built-in functions in python.'"
      ]
     },
     "execution_count": 37,
     "metadata": {},
     "output_type": "execute_result"
    }
   ],
   "source": [
    "\"\"\"Q11. Mention a few built-in functions in python.\"\"\""
   ]
  },
  {
   "cell_type": "code",
   "execution_count": 1,
   "id": "223dd529-2bf6-453c-8894-c58b7417b09d",
   "metadata": {},
   "outputs": [
    {
     "data": {
      "text/plain": [
       "'Ans11. type(), print(), input(), list(), max(), len(), tuple(), range(), dir(), str(), int(), float().'"
      ]
     },
     "execution_count": 1,
     "metadata": {},
     "output_type": "execute_result"
    }
   ],
   "source": [
    "\"\"\"Ans11. type(), print(), input(), list(), max(), len(), tuple(), range(), dir(), str(), int(), float().\"\"\""
   ]
  },
  {
   "cell_type": "code",
   "execution_count": 2,
   "id": "5be502c1-33cc-482c-b7d9-4229cb98a54e",
   "metadata": {},
   "outputs": [
    {
     "data": {
      "text/plain": [
       "'Q12. What is the maximum possible length of an identifier in python?'"
      ]
     },
     "execution_count": 2,
     "metadata": {},
     "output_type": "execute_result"
    }
   ],
   "source": [
    "\"\"\"Q12. What is the maximum possible length of an identifier in python?\"\"\""
   ]
  },
  {
   "cell_type": "code",
   "execution_count": 3,
   "id": "37e6fee8-8ae8-4559-891c-7005e7adf89f",
   "metadata": {},
   "outputs": [
    {
     "data": {
      "text/plain": [
       "'Ans12. 79 characters.'"
      ]
     },
     "execution_count": 3,
     "metadata": {},
     "output_type": "execute_result"
    }
   ],
   "source": [
    "\"\"\"Ans12. 79 characters.\"\"\""
   ]
  },
  {
   "cell_type": "code",
   "execution_count": 4,
   "id": "df105cce-b48b-4a93-950a-fc09bacdab41",
   "metadata": {},
   "outputs": [
    {
     "data": {
      "text/plain": [
       "'Q13. What are the benefits of using python?'"
      ]
     },
     "execution_count": 4,
     "metadata": {},
     "output_type": "execute_result"
    }
   ],
   "source": [
    "\"\"\"Q13. What are the benefits of using python?\"\"\""
   ]
  },
  {
   "cell_type": "code",
   "execution_count": 5,
   "id": "4aa83f63-cb58-436e-929d-f4084e4595bb",
   "metadata": {},
   "outputs": [
    {
     "data": {
      "text/plain": [
       "'Ans13.\\n-Free and opensource\\n-simple to use and understand\\n-productivity has increased\\n-extensive library\\n-supportive community.\\n'"
      ]
     },
     "execution_count": 5,
     "metadata": {},
     "output_type": "execute_result"
    }
   ],
   "source": [
    "\"\"\"Ans13.\n",
    "-Free and opensource\n",
    "-simple to use and understand\n",
    "-productivity has increased\n",
    "-extensive library\n",
    "-supportive community.\n",
    "\"\"\""
   ]
  },
  {
   "cell_type": "code",
   "execution_count": 6,
   "id": "01167758-4306-4f3a-aab0-0af54fb47aa8",
   "metadata": {},
   "outputs": [
    {
     "data": {
      "text/plain": [
       "'Q14. How is memory managed in python?'"
      ]
     },
     "execution_count": 6,
     "metadata": {},
     "output_type": "execute_result"
    }
   ],
   "source": [
    "\"\"\"Q14. How is memory managed in python?\"\"\""
   ]
  },
  {
   "cell_type": "code",
   "execution_count": 7,
   "id": "a28e20f2-7a17-45c9-89aa-42e53e280851",
   "metadata": {},
   "outputs": [
    {
     "data": {
      "text/plain": [
       "'Ans14. Memory management in Python involves a private heap containing all Python objects and data structures. The management of this private heap is ensured internally by the Python memory manager.'"
      ]
     },
     "execution_count": 7,
     "metadata": {},
     "output_type": "execute_result"
    }
   ],
   "source": [
    "\"\"\"Ans14. Memory management in Python involves a private heap containing all Python objects and data structures. The management of this private heap is ensured internally by the Python memory manager.\"\"\""
   ]
  },
  {
   "cell_type": "code",
   "execution_count": 8,
   "id": "f0306e93-3eef-4242-916e-379f730d6cca",
   "metadata": {},
   "outputs": [
    {
     "data": {
      "text/plain": [
       "'Q15. How to install python on windows and set path variables?'"
      ]
     },
     "execution_count": 8,
     "metadata": {},
     "output_type": "execute_result"
    }
   ],
   "source": [
    "\"\"\"Q15. How to install python on windows and set path variables?\"\"\""
   ]
  },
  {
   "cell_type": "code",
   "execution_count": 14,
   "id": "b1bcbd01-d05f-4dd5-84eb-6d05255236d9",
   "metadata": {},
   "outputs": [
    {
     "data": {
      "text/plain": [
       "'Ans15. Install python from this link https://www.python.org/downloads/\\nAfter this, install it on your PC. '"
      ]
     },
     "execution_count": 14,
     "metadata": {},
     "output_type": "execute_result"
    }
   ],
   "source": [
    "\"\"\"Ans15. Install python from this link https://www.python.org/downloads/\n",
    "After this, install it on your PC. \"\"\"\n",
    "#1)First, we must find the directory where we installed Python. A typical installation would have the following path, C:\\Users\\MyUserName\\AppData\\Local\\Programs\\Python\\Python310\n",
    "#2)Now, we will need to add this to the PATH variable, we right click on \"This PC\" and go to \"Properties\".\n",
    "#3)Then, we click on the \"Advanced system settings\" in the menu on the left.going\n",
    "#4)In the bottom right, we can see a button labeled \"Environment Variables\". We will click on it to open another window to edit these variables.\"\"\"\n",
    "#5)Now, we select the \"Path variable\" in the \"System variables\" section and click \"Edit\". The next screen will show all the directories currently part of the PATH variable.\n",
    "#6)Another window opens up where we can see all the paths for the currently configured system variables. To add a new path for our Python program, we will click on the \"New\" button on the right side and paste the path in Step 1\n",
    "#7)We have successfully added the path for our Python program to our system's environment variables. The best practice is to restart the system afterward for the change to occur.\n",
    "#8)Now, we can verify if the PATH variable was configured correctly by opening up the terminal and entering the command python --version.\"\"\""
   ]
  },
  {
   "cell_type": "code",
   "execution_count": 15,
   "id": "3b7dd147-b9d8-48a2-91ed-fcf085eb7da9",
   "metadata": {},
   "outputs": [
    {
     "data": {
      "text/plain": [
       "'Q16. Is indentation required in python?'"
      ]
     },
     "execution_count": 15,
     "metadata": {},
     "output_type": "execute_result"
    }
   ],
   "source": [
    "\"\"\"Q16. Is indentation required in python?\"\"\""
   ]
  },
  {
   "cell_type": "code",
   "execution_count": 17,
   "id": "4ff30a0e-3659-4520-aa84-a8d142cdd6df",
   "metadata": {},
   "outputs": [],
   "source": [
    "#Ans16. Yes, indentation is required in python."
   ]
  },
  {
   "cell_type": "code",
   "execution_count": null,
   "id": "a921e7a4-e877-4c12-9f22-b06273092822",
   "metadata": {},
   "outputs": [],
   "source": []
  }
 ],
 "metadata": {
  "kernelspec": {
   "display_name": "Python 3 (ipykernel)",
   "language": "python",
   "name": "python3"
  },
  "language_info": {
   "codemirror_mode": {
    "name": "ipython",
    "version": 3
   },
   "file_extension": ".py",
   "mimetype": "text/x-python",
   "name": "python",
   "nbconvert_exporter": "python",
   "pygments_lexer": "ipython3",
   "version": "3.10.8"
  }
 },
 "nbformat": 4,
 "nbformat_minor": 5
}
