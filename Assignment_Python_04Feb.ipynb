{
 "cells": [
  {
   "cell_type": "code",
   "execution_count": 1,
   "id": "bf04a935-6686-4dd0-988b-a15c305f1803",
   "metadata": {},
   "outputs": [
    {
     "data": {
      "text/plain": [
       "\"Q1. Create a python program to sort the given list of tuples based on integer value using a lambda function.\\n [('Sachin Tendulkar', 34357), ('Ricky Ponting', 27483), ('Jack Kallis', 25534), ('Virat Kohli', 24936)]\""
      ]
     },
     "execution_count": 1,
     "metadata": {},
     "output_type": "execute_result"
    }
   ],
   "source": [
    "\"\"\"Q1. Create a python program to sort the given list of tuples based on integer value using a lambda function.\n",
    " [('Sachin Tendulkar', 34357), ('Ricky Ponting', 27483), ('Jack Kallis', 25534), ('Virat Kohli', 24936)]\"\"\""
   ]
  },
  {
   "cell_type": "code",
   "execution_count": 7,
   "id": "5967d0ea-1684-4121-a391-f81eb6d23c96",
   "metadata": {},
   "outputs": [
    {
     "data": {
      "text/plain": [
       "[('Virat Kohli', 24936),\n",
       " ('Jack Kallis', 25534),\n",
       " ('Ricky Ponting', 27483),\n",
       " ('Sachin Tendulkar', 34357)]"
      ]
     },
     "execution_count": 7,
     "metadata": {},
     "output_type": "execute_result"
    }
   ],
   "source": [
    "#Ans1.\n",
    "l=[('Sachin Tendulkar', 34357), ('Ricky Ponting', 27483), ('Jack Kallis', 25534), ('Virat Kohli', 24936)]\n",
    "l.sort(key=lambda x:x[1])\n",
    "l"
   ]
  },
  {
   "cell_type": "code",
   "execution_count": 16,
   "id": "1b6c8249-8ad3-4509-8611-a6a6698ecc7e",
   "metadata": {},
   "outputs": [
    {
     "data": {
      "text/plain": [
       "'Q2. Write a Python Program to find the squares of all the numbers in the given list of integers using\\nlambda and map functions.\\n\\n\\n[1, 2, 3, 4, 5, 6, 7, 8, 9, 10]'"
      ]
     },
     "execution_count": 16,
     "metadata": {},
     "output_type": "execute_result"
    }
   ],
   "source": [
    "\"\"\"Q2. Write a Python Program to find the squares of all the numbers in the given list of integers using\n",
    "lambda and map functions.\n",
    "\n",
    "\n",
    "[1, 2, 3, 4, 5, 6, 7, 8, 9, 10]\"\"\""
   ]
  },
  {
   "cell_type": "code",
   "execution_count": 19,
   "id": "be602deb-28ee-4325-95e1-03cfe2f6dd73",
   "metadata": {},
   "outputs": [
    {
     "data": {
      "text/plain": [
       "[1, 4, 9, 16, 25, 36, 49, 64, 81, 100]"
      ]
     },
     "execution_count": 19,
     "metadata": {},
     "output_type": "execute_result"
    }
   ],
   "source": [
    "#Ans2.\n",
    "l=[1, 2, 3, 4, 5, 6, 7, 8, 9, 10]\n",
    "list(map(lambda x:x**2,l))"
   ]
  },
  {
   "cell_type": "code",
   "execution_count": 21,
   "id": "3ae418b8-e6dc-47ac-a5e7-e97c5563aafb",
   "metadata": {},
   "outputs": [
    {
     "data": {
      "text/plain": [
       "\"Q3. Write a python program to convert the given list of integers into a tuple of strings. Use map and lambda functions\\n\\n\\nGiven String: [1, 2, 3, 4, 5, 6, 7, 8, 9, 10]\\n\\nExpected output: ('1', '2', '3', '4', '5', '6', '7', '8', '9', '10')\""
      ]
     },
     "execution_count": 21,
     "metadata": {},
     "output_type": "execute_result"
    }
   ],
   "source": [
    "\"\"\"Q3. Write a python program to convert the given list of integers into a tuple of strings. Use map and lambda functions\n",
    "\n",
    "\n",
    "Given String: [1, 2, 3, 4, 5, 6, 7, 8, 9, 10]\n",
    "\n",
    "Expected output: ('1', '2', '3', '4', '5', '6', '7', '8', '9', '10')\"\"\""
   ]
  },
  {
   "cell_type": "code",
   "execution_count": 23,
   "id": "2f8a8105-1f42-4a6a-896e-a9fcfb51bd79",
   "metadata": {},
   "outputs": [
    {
     "data": {
      "text/plain": [
       "('1', '2', '3', '4', '5', '6', '7', '8', '9', '10')"
      ]
     },
     "execution_count": 23,
     "metadata": {},
     "output_type": "execute_result"
    }
   ],
   "source": [
    "#Ans3.\n",
    "l=[1, 2, 3, 4, 5, 6, 7, 8, 9, 10]\n",
    "tuple(map(lambda x:str(x),l))"
   ]
  },
  {
   "cell_type": "code",
   "execution_count": 25,
   "id": "9decd091-d2bf-4114-9c29-86de1c30113a",
   "metadata": {},
   "outputs": [
    {
     "data": {
      "text/plain": [
       "'Q4. Write a python program using reduce function to compute the product of a list containing numbers from 1 to 25.'"
      ]
     },
     "execution_count": 25,
     "metadata": {},
     "output_type": "execute_result"
    }
   ],
   "source": [
    "\"\"\"Q4. Write a python program using reduce function to compute the product of a list containing numbers from 1 to 25.\"\"\""
   ]
  },
  {
   "cell_type": "code",
   "execution_count": 34,
   "id": "95527f0b-c4c6-41aa-ac51-9587aa1b0b0c",
   "metadata": {},
   "outputs": [
    {
     "data": {
      "text/plain": [
       "15511210043330985984000000"
      ]
     },
     "execution_count": 34,
     "metadata": {},
     "output_type": "execute_result"
    }
   ],
   "source": [
    "#Ans4.\n",
    "from functools import reduce\n",
    "l=[]\n",
    "for i in range(1,26):\n",
    "    l.append(i)\n",
    "reduce(lambda x,y:x*y,l)"
   ]
  },
  {
   "cell_type": "code",
   "execution_count": 36,
   "id": "8c6866f1-12d3-43c8-b6f4-9388615f5ca3",
   "metadata": {},
   "outputs": [
    {
     "data": {
      "text/plain": [
       "'Q5. Write a python program to filter the numbers in a given list that are divisible by 2 and 3 using the filter function.\\n[2, 3, 6, 9, 27, 60, 90, 120, 55, 46]'"
      ]
     },
     "execution_count": 36,
     "metadata": {},
     "output_type": "execute_result"
    }
   ],
   "source": [
    "\"\"\"Q5. Write a python program to filter the numbers in a given list that are divisible by 2 and 3 using the filter function.\n",
    "[2, 3, 6, 9, 27, 60, 90, 120, 55, 46]\"\"\""
   ]
  },
  {
   "cell_type": "code",
   "execution_count": 42,
   "id": "7414d483-ba23-4414-8495-b0c1969abd3c",
   "metadata": {},
   "outputs": [
    {
     "data": {
      "text/plain": [
       "[2, 3, 6, 9, 27, 60, 90, 120, 46]"
      ]
     },
     "execution_count": 42,
     "metadata": {},
     "output_type": "execute_result"
    }
   ],
   "source": [
    "#Ans5.\n",
    "l=[2, 3, 6, 9, 27, 60, 90, 120, 55, 46]\n",
    "list(filter(lambda x: ((x%2==0) | (x%3==0)) , l))"
   ]
  },
  {
   "cell_type": "code",
   "execution_count": 43,
   "id": "7678c978-1e1c-4e64-8cc7-118da4cf6995",
   "metadata": {},
   "outputs": [
    {
     "data": {
      "text/plain": [
       "\"Q6. Write a python program to find palindromes in the given list of strings using lambda and filter function.\\n\\n\\n['python', 'php', 'aba', 'radar', 'level']\""
      ]
     },
     "execution_count": 43,
     "metadata": {},
     "output_type": "execute_result"
    }
   ],
   "source": [
    "\"\"\"Q6. Write a python program to find palindromes in the given list of strings using lambda and filter function.\n",
    "\n",
    "\n",
    "['python', 'php', 'aba', 'radar', 'level']\"\"\""
   ]
  },
  {
   "cell_type": "code",
   "execution_count": 45,
   "id": "c770e175-4900-4a08-bacc-c5f643af71d1",
   "metadata": {},
   "outputs": [
    {
     "data": {
      "text/plain": [
       "['php', 'aba', 'radar', 'level']"
      ]
     },
     "execution_count": 45,
     "metadata": {},
     "output_type": "execute_result"
    }
   ],
   "source": [
    "#Ans6.\n",
    "l=['python', 'php', 'aba', 'radar', 'level']\n",
    "list(filter(lambda x: x==x[::-1],l))"
   ]
  },
  {
   "cell_type": "code",
   "execution_count": null,
   "id": "606d507d-a016-4d3a-a830-d7539fee293d",
   "metadata": {},
   "outputs": [],
   "source": []
  }
 ],
 "metadata": {
  "kernelspec": {
   "display_name": "Python 3 (ipykernel)",
   "language": "python",
   "name": "python3"
  },
  "language_info": {
   "codemirror_mode": {
    "name": "ipython",
    "version": 3
   },
   "file_extension": ".py",
   "mimetype": "text/x-python",
   "name": "python",
   "nbconvert_exporter": "python",
   "pygments_lexer": "ipython3",
   "version": "3.10.8"
  }
 },
 "nbformat": 4,
 "nbformat_minor": 5
}
